{
 "cells": [
  {
   "cell_type": "code",
   "execution_count": 0,
   "metadata": {
    "application/vnd.databricks.v1+cell": {
     "cellMetadata": {},
     "inputWidgets": {},
     "nuid": "e3fc90fa-deaf-4691-ab2f-69826914f7a6",
     "showTitle": false,
     "tableResultSettingsMap": {},
     "title": ""
    }
   },
   "outputs": [],
   "source": [
    "-- Databricks notebook source\n",
    "CREATE LIVE TABLE diagnostic_mapping\n",
    "COMMENT \"Bronze table for the diagnosis mapping file\"\n",
    "TBLPROPERTIES (\"quality\" = \"bronze\")\n",
    "AS\n",
    "SELECT *\n",
    "FROM incremental_load.default.raw_diagnosis_map"
   ]
  },
  {
   "cell_type": "code",
   "execution_count": 0,
   "metadata": {
    "application/vnd.databricks.v1+cell": {
     "cellMetadata": {},
     "inputWidgets": {},
     "nuid": "c2a17cb2-ec55-487f-9b42-9d9ee65f6534",
     "showTitle": false,
     "tableResultSettingsMap": {},
     "title": ""
    }
   },
   "outputs": [],
   "source": [
    "CREATE OR REFRESH STREAMING TABLE daily_patients\n",
    "COMMENT \"Bronze table for daily patient data\"\n",
    "TBLPROPERTIES (\"quality\" = \"bronze\")\n",
    "AS\n",
    "SELECT *\n",
    "FROM STREAM(incremental_load.default.raw_patients_daily)"
   ]
  },
  {
   "cell_type": "code",
   "execution_count": 0,
   "metadata": {
    "application/vnd.databricks.v1+cell": {
     "cellMetadata": {},
     "inputWidgets": {},
     "nuid": "05d8b185-9cb6-49d2-8e3b-556c065d8af4",
     "showTitle": false,
     "tableResultSettingsMap": {},
     "title": ""
    }
   },
   "outputs": [],
   "source": [
    "\n",
    "-- CREATE OR REFRESH STREAMING TABLE processed_patient_data(CONSTRAINT valid_data EXPECT (patient_id IS NOT NULL and `name` IS NOT NULL and age IS NOT NULL and gender IS NOT NULL and `address` IS NOT NULL and contact_number IS NOT NULL and admission_date IS NOT NULL) ON VIOLATION DROP ROW)\n",
    "-- COMMENT \"Silver table with newly joined data from bronze tables and data quality constraints\"\n",
    "-- TBLPROPERTIES (\"quality\" = \"silver\")\n",
    "-- AS\n",
    "-- SELECT\n",
    "--     p.patient_id,\n",
    "--     p.name,\n",
    "--     p.age,\n",
    "--     p.gender,\n",
    "--     p.address,\n",
    "--     p.contact_number,\n",
    "--     p.admission_date,\n",
    "--     m.diagnosis_description\n",
    "-- FROM STREAM(live.daily_patients) p\n",
    "-- LEFT JOIN live.diagnostic_mapping m\n",
    "-- ON p.diagnosis_code = m.diagnosis_code;\n",
    "\n",
    "CREATE OR REFRESH STREAMING TABLE processed_patient_data\n",
    "COMMENT \"Silver table with newly joined data from bronze tables and data quality constraints\"\n",
    "TBLPROPERTIES (\"quality\" = \"silver\")\n",
    "AS\n",
    "SELECT\n",
    "    p.patient_id,\n",
    "    p.name,\n",
    "    p.age,\n",
    "    p.gender,\n",
    "    p.address,\n",
    "    p.contact_number,\n",
    "    p.admission_date,\n",
    "    m.diagnosis_description\n",
    "FROM STREAM(live.daily_patients) p\n",
    "LEFT JOIN live.diagnostic_mapping m\n",
    "ON p.diagnosis_code = m.diagnosis_code;"
   ]
  },
  {
   "cell_type": "code",
   "execution_count": 0,
   "metadata": {
    "application/vnd.databricks.v1+cell": {
     "cellMetadata": {},
     "inputWidgets": {},
     "nuid": "2b8857d6-8a6f-4a53-ab48-c9f4edde07ca",
     "showTitle": false,
     "tableResultSettingsMap": {},
     "title": ""
    }
   },
   "outputs": [],
   "source": [
    "CREATE LIVE TABLE patient_statistics_by_diagnosis\n",
    "COMMENT \"Gold table with detailed patient statistics by diagnosis description\"\n",
    "TBLPROPERTIES (\"quality\" = \"gold\")\n",
    "AS\n",
    "SELECT\n",
    "    diagnosis_description,\n",
    "    COUNT(patient_id) AS patient_count,\n",
    "    AVG(age) AS avg_age,\n",
    "    COUNT(DISTINCT gender) AS unique_gender_count,\n",
    "    MIN(age) AS min_age,\n",
    "    MAX(age) AS max_age\n",
    "FROM live.processed_patient_data\n",
    "GROUP BY diagnosis_description;"
   ]
  },
  {
   "cell_type": "code",
   "execution_count": 0,
   "metadata": {
    "application/vnd.databricks.v1+cell": {
     "cellMetadata": {},
     "inputWidgets": {},
     "nuid": "18429810-8989-4245-b220-2dcdeadbe0a3",
     "showTitle": false,
     "tableResultSettingsMap": {},
     "title": ""
    }
   },
   "outputs": [],
   "source": [
    "CREATE LIVE TABLE patient_statistics_by_gender\n",
    "COMMENT \"Gold table with detailed patient statistics by gender\"\n",
    "TBLPROPERTIES (\"quality\" = \"gold\")\n",
    "AS\n",
    "SELECT\n",
    "    gender,\n",
    "    COUNT(patient_id) AS patient_count,\n",
    "    AVG(age) AS avg_age,\n",
    "    COUNT(DISTINCT diagnosis_description) AS unique_diagnosis_count,\n",
    "    MIN(age) AS min_age,\n",
    "    MAX(age) AS max_age\n",
    "FROM live.processed_patient_data\n",
    "GROUP BY gender;"
   ]
  }
 ],
 "metadata": {
  "application/vnd.databricks.v1+notebook": {
   "computePreferences": null,
   "dashboards": [],
   "environmentMetadata": {
    "base_environment": "",
    "client": "1"
   },
   "language": "sql",
   "notebookMetadata": {},
   "notebookName": "healthcare_dlt_processing",
   "widgets": {}
  },
  "language_info": {
   "name": "sql"
  }
 },
 "nbformat": 4,
 "nbformat_minor": 0
}